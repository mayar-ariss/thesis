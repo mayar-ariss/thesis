{
 "cells": [
  {
   "cell_type": "code",
   "execution_count": 3,
   "metadata": {},
   "outputs": [],
   "source": [
    "# Open the .dat file for reading\n",
    "with open(\"short_panel.dat\", \"r\") as dat_file:\n",
    "    # Open a new .txt file for writing\n",
    "    with open(\"output.txt\", \"w\") as txt_file:\n",
    "        # Read the content of the .dat file\n",
    "        content = dat_file.read()\n",
    "        # Write the content to the .txt file\n",
    "        txt_file.write(content)\n"
   ]
  },
  {
   "cell_type": "code",
   "execution_count": null,
   "metadata": {},
   "outputs": [],
   "source": []
  }
 ],
 "metadata": {
  "kernelspec": {
   "display_name": "FEM_buildings",
   "language": "python",
   "name": "python3"
  },
  "language_info": {
   "codemirror_mode": {
    "name": "ipython",
    "version": 3
   },
   "file_extension": ".py",
   "mimetype": "text/x-python",
   "name": "python",
   "nbconvert_exporter": "python",
   "pygments_lexer": "ipython3",
   "version": "3.8.18"
  }
 },
 "nbformat": 4,
 "nbformat_minor": 2
}
